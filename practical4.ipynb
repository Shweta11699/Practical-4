{
  "nbformat": 4,
  "nbformat_minor": 0,
  "metadata": {
    "colab": {
      "name": "practical4.ipynb",
      "provenance": []
    },
    "kernelspec": {
      "name": "python3",
      "display_name": "Python 3"
    },
    "language_info": {
      "name": "python"
    }
  },
  "cells": [
    {
      "cell_type": "markdown",
      "source": [
        "Program to create, concatenateand print a string and accessing sub-string from given string"
      ],
      "metadata": {
        "id": "6Hgdge2l7E0Q"
      }
    },
    {
      "cell_type": "code",
      "source": [
        "s1=input(\"Enter first String : \");\n",
        "s2=input(\"Enter second String : \");\n",
        "print(\"First string is : \",s1);\n",
        "print(\"Second string is : \",s2);\n",
        "print(\"concatenations of two strings :\",s1+s2);\n",
        "print(\"Substring of given string :\",s1[1:4]);"
      ],
      "metadata": {
        "colab": {
          "base_uri": "https://localhost:8080/"
        },
        "id": "EIvqOion7Fwn",
        "outputId": "3c890ea2-e4ea-4ead-aaac-c28d9737bd99"
      },
      "execution_count": 1,
      "outputs": [
        {
          "output_type": "stream",
          "name": "stdout",
          "text": [
            "Enter first String : hello\n",
            "Enter second String : hi\n",
            "First string is :  hello\n",
            "Second string is :  hi\n",
            "concatenations of two strings : hellohi\n",
            "Substring of given string : ell\n"
          ]
        }
      ]
    }
  ]
}